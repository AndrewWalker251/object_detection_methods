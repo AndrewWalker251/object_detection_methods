{
 "cells": [
  {
   "cell_type": "markdown",
   "metadata": {},
   "source": [
    "# EfficientDET\n",
    "\n",
    "The intention of this notebook is to provide the pipeline to quickly implement easily available YOLOv5 implementations on your own problem datasets.\n",
    "\n",
    "## EfficientDET How it works\n",
    "\n",
    "Based on the ideas of EfficientNET\n",
    "\n",
    "EfficientNet scales in multiple dimensions (compound scaling)\n",
    "- input resolution\n",
    "- width\n",
    "- depth (layers) \n",
    "\n",
    "BiFPN\n",
    "\n"
   ]
  }
 ],
 "metadata": {
  "kernelspec": {
   "display_name": "Python 3",
   "language": "python",
   "name": "python3"
  },
  "language_info": {
   "codemirror_mode": {
    "name": "ipython",
    "version": 3
   },
   "file_extension": ".py",
   "mimetype": "text/x-python",
   "name": "python",
   "nbconvert_exporter": "python",
   "pygments_lexer": "ipython3",
   "version": "3.6.8"
  }
 },
 "nbformat": 4,
 "nbformat_minor": 2
}
